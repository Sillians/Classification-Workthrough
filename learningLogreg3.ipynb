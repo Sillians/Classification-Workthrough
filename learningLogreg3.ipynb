{
  "nbformat": 4,
  "nbformat_minor": 0,
  "metadata": {
    "colab": {
      "name": "learningLogreg3.ipynb",
      "version": "0.3.2",
      "provenance": [],
      "include_colab_link": true
    },
    "kernelspec": {
      "name": "python3",
      "display_name": "Python 3"
    }
  },
  "cells": [
    {
      "cell_type": "markdown",
      "metadata": {
        "id": "view-in-github",
        "colab_type": "text"
      },
      "source": [
        "<a href=\"https://colab.research.google.com/github/Sillians/Classification-Workthrough/blob/master/learningLogreg3.ipynb\" target=\"_parent\"><img src=\"https://colab.research.google.com/assets/colab-badge.svg\" alt=\"Open In Colab\"/></a>"
      ]
    },
    {
      "cell_type": "markdown",
      "metadata": {
        "id": "aoPGxh-Q843L",
        "colab_type": "text"
      },
      "source": [
        "TUNING YOUR MODEL USING CONFUSION MATRIX AND K-NeighbourClassifier"
      ]
    },
    {
      "cell_type": "markdown",
      "metadata": {
        "id": "CIEneh0V9v5e",
        "colab_type": "text"
      },
      "source": [
        "METRICS FOR CLASSIFICATION"
      ]
    },
    {
      "cell_type": "code",
      "metadata": {
        "id": "MeBz7XD-7asx",
        "colab_type": "code",
        "colab": {}
      },
      "source": [
        "# Import necessary modules\n",
        "from sklearn import metrics\n",
        "from sklearn.metrics import classification_report\n",
        "from sklearn.metrics import confusion_matrix\n",
        "from sklearn.model_selection import train_test_split\n",
        "from sklearn.neighbors import KNeighborsClassifier"
      ],
      "execution_count": 0,
      "outputs": []
    },
    {
      "cell_type": "code",
      "metadata": {
        "id": "ntt-pwje9dBa",
        "colab_type": "code",
        "colab": {}
      },
      "source": [
        "# Create training and test set\n",
        "X_train, X_test, y_train, y_test = train_test_split(X, y, test_size = 0.4, random_state=42)\n"
      ],
      "execution_count": 0,
      "outputs": []
    },
    {
      "cell_type": "code",
      "metadata": {
        "id": "48RqqTWD9fzC",
        "colab_type": "code",
        "colab": {}
      },
      "source": [
        "# Instantiate a k-NN classifier: knn\n",
        "knn = KNeighborsClassifier(n_neighbors=6)"
      ],
      "execution_count": 0,
      "outputs": []
    },
    {
      "cell_type": "code",
      "metadata": {
        "id": "VEGxZSlF9kT4",
        "colab_type": "code",
        "colab": {}
      },
      "source": [
        "# Fit the classifier to the training data\n",
        "knn.fit(X_train, y_train)"
      ],
      "execution_count": 0,
      "outputs": []
    },
    {
      "cell_type": "code",
      "metadata": {
        "id": "x5JiTwZ79m3E",
        "colab_type": "code",
        "colab": {}
      },
      "source": [
        "# Predict the labels of the test data: y_pred\n",
        "y_pred = knn.predict(X_test)"
      ],
      "execution_count": 0,
      "outputs": []
    },
    {
      "cell_type": "code",
      "metadata": {
        "id": "1YTeYwwG9pij",
        "colab_type": "code",
        "colab": {}
      },
      "source": [
        "# Generate the confusion matrix and classification report\n",
        "print(confusion_matrix(y_test, y_pred))\n",
        "print(classification_report(y_test, y_pred))"
      ],
      "execution_count": 0,
      "outputs": []
    },
    {
      "cell_type": "markdown",
      "metadata": {
        "id": "cbUXIJXkBA_o",
        "colab_type": "text"
      },
      "source": [
        "LOGISTIC REGRESSION\n"
      ]
    },
    {
      "cell_type": "markdown",
      "metadata": {
        "id": "fct0GcdW9aGq",
        "colab_type": "text"
      },
      "source": [
        "Logistic regression returns a probability. You can use the returned probability \"as is\" (for example, the probability that the user will click on this ad is 0.00023) or convert the returned probability to a binary value (for example, this email is spam).\n",
        "\n",
        "\n",
        "A logistic regression model that returns 0.9995 for a particular email message is predicting that it is very likely to be spam. Conversely, another email message with a prediction score of 0.0003 on that same logistic regression model is very likely not spam. However, what about an email message with a prediction score of 0.6? In order to map a logistic regression value to a binary category, you must define a classification threshold (also called the decision threshold). A value above that threshold indicates \"spam\"; a value below indicates \"not spam.\" It is tempting to assume that the classification threshold should always be 0.5, but thresholds are problem-dependent, and are therefore values that you must tune.\n",
        "\n",
        "\n",
        "The following sections take a closer look at metrics you can use to evaluate a classification model's predictions, as well as the impact of changing the classification threshold on these predictions."
      ]
    },
    {
      "cell_type": "markdown",
      "metadata": {
        "id": "pBY5w1IYA9Nj",
        "colab_type": "text"
      },
      "source": [
        "**Note**: \"Tuning\" a threshold for logistic regression is different from tuning hyperparameters such as learning rate. Part of choosing a threshold is assessing how much you'll suffer for making a mistake. For example, mistakenly labeling a non-spam message as spam is very bad. However, mistakenly labeling a spam message as non-spam is unpleasant, but hardly the end of your job."
      ]
    },
    {
      "cell_type": "markdown",
      "metadata": {
        "id": "a_erEaYqFNzt",
        "colab_type": "text"
      },
      "source": [
        "BUILDING A LOGISTIC REGRESSION MODEL"
      ]
    },
    {
      "cell_type": "code",
      "metadata": {
        "id": "dmSbcRcKA39F",
        "colab_type": "code",
        "colab": {}
      },
      "source": [
        "#Import necessary modules\n",
        "import sklearn\n",
        "from sklearn import metrics\n",
        "from sklearn.metrics import confusion_matrix, classification_report\n",
        "from sklearn.linear_model import LogisticRegression\n",
        "from sklearn.model_selection import train_test_split"
      ],
      "execution_count": 0,
      "outputs": []
    },
    {
      "cell_type": "code",
      "metadata": {
        "id": "P1L6kSwOFWYJ",
        "colab_type": "code",
        "colab": {}
      },
      "source": [
        "#Create training and test set\n",
        "X_train, X_test, y_train, y_test = train_test_split(X, y, test_size=0.4, random_state=42)"
      ],
      "execution_count": 0,
      "outputs": []
    },
    {
      "cell_type": "code",
      "metadata": {
        "id": "xMgXFEdBKFoe",
        "colab_type": "code",
        "colab": {}
      },
      "source": [
        "#Create the Classifier logreg\n",
        "logreg = LogisticRegression()"
      ],
      "execution_count": 0,
      "outputs": []
    },
    {
      "cell_type": "code",
      "metadata": {
        "id": "bdRTiwEdKYLn",
        "colab_type": "code",
        "colab": {}
      },
      "source": [
        "#Fit the Classifier to the training Data\n",
        "log_fit = logreg.fit(X_train, y_train)"
      ],
      "execution_count": 0,
      "outputs": []
    },
    {
      "cell_type": "code",
      "metadata": {
        "id": "MYXoSIUjKm0f",
        "colab_type": "code",
        "colab": {}
      },
      "source": [
        "#Predict the labels of the test set\n",
        "y_pred = logreg.predict(X_test)"
      ],
      "execution_count": 0,
      "outputs": []
    },
    {
      "cell_type": "code",
      "metadata": {
        "id": "YoL1cpOzLv4n",
        "colab_type": "code",
        "colab": {}
      },
      "source": [
        "# Compute and print the confusion matrix and classification report\n",
        "print(confusion_matrix(y_test, y_pred))\n",
        "print(classification_report(y_test, y_pred))"
      ],
      "execution_count": 0,
      "outputs": []
    },
    {
      "cell_type": "markdown",
      "metadata": {
        "id": "7cEXR2G2MEf_",
        "colab_type": "text"
      },
      "source": [
        "**Plotting** **an** **ROC** **curv**e"
      ]
    },
    {
      "cell_type": "code",
      "metadata": {
        "id": "BL_oUCnYMISN",
        "colab_type": "code",
        "colab": {}
      },
      "source": [
        "#Import modules\n",
        "import sklearn\n",
        "from sklearn import metrics\n",
        "from sklearn.metrics import roc_curve"
      ],
      "execution_count": 0,
      "outputs": []
    },
    {
      "cell_type": "code",
      "metadata": {
        "id": "5HZ2i4uONy-M",
        "colab_type": "code",
        "colab": {}
      },
      "source": [
        "# Compute predicted probabilities: y_pred_prob\n",
        "y_pred_prob = logreg.predict_proba(X_test)[:, 1]"
      ],
      "execution_count": 0,
      "outputs": []
    },
    {
      "cell_type": "code",
      "metadata": {
        "id": "i8abz5ZbODF1",
        "colab_type": "code",
        "colab": {}
      },
      "source": [
        "# Generate ROC curve values: fpr, tpr, thresholds\n",
        "fpr, tpr, threshold = roc_curve(y_test, y_pred_prob)"
      ],
      "execution_count": 0,
      "outputs": []
    },
    {
      "cell_type": "code",
      "metadata": {
        "id": "ZBYr3JyIOWEK",
        "colab_type": "code",
        "colab": {}
      },
      "source": [
        "# Plot ROC curve\n",
        "plt.plot([0, 1], [0, 1], 'k--')\n",
        "plt.plot(fpr, tpr)\n",
        "plt.xlabel('False Positive Rate')\n",
        "plt.ylabel('True Positive Rate')\n",
        "plt.title('ROC Curve')\n",
        "plt.show()"
      ],
      "execution_count": 0,
      "outputs": []
    },
    {
      "cell_type": "markdown",
      "metadata": {
        "id": "GJROgBRGbr4M",
        "colab_type": "text"
      },
      "source": [
        "AUC(AREA UNDER THE ROC CURVE)"
      ]
    },
    {
      "cell_type": "markdown",
      "metadata": {
        "id": "cLfPrDvqPSxa",
        "colab_type": "text"
      },
      "source": [
        "Precision-recall Curve\n",
        "When looking at your ROC curve, you may have noticed that the y-axis (True positive rate) is also known as recall. Indeed, in addition to the ROC curve, there are other ways to visually evaluate model performance. One such way is the precision-recall curve, which is generated by plotting the precision and recall for different thresholds. As a reminder, precision and recall are defined as:\n",
        "\n"
      ]
    },
    {
      "cell_type": "code",
      "metadata": {
        "id": "z1UWe8TXPTpk",
        "colab_type": "code",
        "colab": {}
      },
      "source": [
        "#import modules\n",
        "import sklearn\n",
        "from sklearn import metrics\n",
        "from sklearn.metrics import roc_auc_score\n",
        "from sklearn.model_selection import cross_val_score"
      ],
      "execution_count": 0,
      "outputs": []
    },
    {
      "cell_type": "code",
      "metadata": {
        "id": "hfLcf6Imcd-z",
        "colab_type": "code",
        "colab": {}
      },
      "source": [
        "Logreg = LogisticRegression()"
      ],
      "execution_count": 0,
      "outputs": []
    },
    {
      "cell_type": "code",
      "metadata": {
        "id": "U7IL0gU3cImN",
        "colab_type": "code",
        "colab": {}
      },
      "source": [
        "# Compute predicted probabilities: y_pred_prob\n",
        "y_pred_prob = logreg.predict_proba(X_test)[:-1]"
      ],
      "execution_count": 0,
      "outputs": []
    },
    {
      "cell_type": "code",
      "metadata": {
        "id": "d_uFumwwcibh",
        "colab_type": "code",
        "colab": {}
      },
      "source": [
        "# Compute and print AUC score\n",
        "print(\"AUC: {}\".format(roc_auc_score(y_test, y_pred_prob)))"
      ],
      "execution_count": 0,
      "outputs": []
    },
    {
      "cell_type": "code",
      "metadata": {
        "id": "Q0K1bNm-c64j",
        "colab_type": "code",
        "colab": {}
      },
      "source": [
        "# Compute cross-validated AUC scores: cv_auc\n",
        "cv_auc = cross_val_score(logreg, X, y, cv=10, selection='roc_auc')"
      ],
      "execution_count": 0,
      "outputs": []
    },
    {
      "cell_type": "code",
      "metadata": {
        "id": "CJKXOHaYdcyY",
        "colab_type": "code",
        "colab": {}
      },
      "source": [
        "# Compute cross-validated AUC scores: cv_auc\n",
        "print(\"AUC Score computed using 5 fold cross validation: {}\".format(cv_auc))"
      ],
      "execution_count": 0,
      "outputs": []
    },
    {
      "cell_type": "markdown",
      "metadata": {
        "id": "9zNPJuPDeCzt",
        "colab_type": "text"
      },
      "source": [
        "**HYPERPARAMETER** **TUNNIN**G"
      ]
    },
    {
      "cell_type": "code",
      "metadata": {
        "id": "rDL4zBvOeHpO",
        "colab_type": "code",
        "colab": {}
      },
      "source": [
        "# Import necessary modules\n",
        "import sklearn\n",
        "from sklearn import metrics\n",
        "from sklearn.linear_model import LogisticRegression\n",
        "from sklearn.model_selection import GridSearchCV"
      ],
      "execution_count": 0,
      "outputs": []
    },
    {
      "cell_type": "code",
      "metadata": {
        "id": "YIwwbzsIs-vL",
        "colab_type": "code",
        "colab": {}
      },
      "source": [
        "# Setup the hyperparameter grid\n",
        "c_space = np.logspace(-5, 8, 15)\n",
        "param_grid = {'C': c_space}"
      ],
      "execution_count": 0,
      "outputs": []
    },
    {
      "cell_type": "code",
      "metadata": {
        "id": "LIiFIoLKtDRa",
        "colab_type": "code",
        "colab": {}
      },
      "source": [
        "# Instantiate a logistic regression classifier: logreg\n",
        "logreg = LogisticRegression()"
      ],
      "execution_count": 0,
      "outputs": []
    },
    {
      "cell_type": "code",
      "metadata": {
        "id": "-K2r705KtHjr",
        "colab_type": "code",
        "colab": {}
      },
      "source": [
        "# Instantiate the GridSearchCV object: logreg_cv\n",
        "logreg_cv = GridSearchCV(logreg, param_grid, cv=5)"
      ],
      "execution_count": 0,
      "outputs": []
    },
    {
      "cell_type": "code",
      "metadata": {
        "id": "pSErfZ_7tLjO",
        "colab_type": "code",
        "colab": {}
      },
      "source": [
        "# Fit it to the data\n",
        "logreg_cv.fit(X, y)"
      ],
      "execution_count": 0,
      "outputs": []
    },
    {
      "cell_type": "code",
      "metadata": {
        "id": "7vNI2zEDtPLF",
        "colab_type": "code",
        "colab": {}
      },
      "source": [
        "# Print the tuned parameters and score\n",
        "print(\"Tuned Logistic Regression Parameters: {}\".format(logreg_cv.best_params_)) \n",
        "print(\"Best score is {}\".format(logreg_cv.best_score_))"
      ],
      "execution_count": 0,
      "outputs": []
    },
    {
      "cell_type": "markdown",
      "metadata": {
        "id": "Eccn_ZgftTj2",
        "colab_type": "text"
      },
      "source": [
        "**Hyperparameter** **tuning** **with** **RandomizedSearchC**V"
      ]
    },
    {
      "cell_type": "markdown",
      "metadata": {
        "id": "ZP1vb4oRtpxq",
        "colab_type": "text"
      },
      "source": [
        "GridSearchCV can be computationally expensive, especially if you are searching over a large hyperparameter space and dealing with multiple hyperparameters. A solution to this is to use RandomizedSearchCV, in which not all hyperparameter values are tried out. Instead, a fixed number of hyperparameter settings is sampled from specified probability distributions. You'll practice using RandomizedSearchCV in this exercise and see how this works.\n",
        "\n",
        "Here, you'll also be introduced to a new model: the Decision Tree. Don't worry about the specifics of how this model works. Just like k-NN, linear regression, and logistic regression, decision trees in scikit-learn have .fit() and .predict() methods that you can use in exactly the same way as before. Decision trees have many parameters that can be tuned, such as max_features, max_depth, and min_samples_leaf: This makes it an ideal use case for RandomizedSearchCV."
      ]
    },
    {
      "cell_type": "markdown",
      "metadata": {
        "id": "_Esa8fj0viyG",
        "colab_type": "text"
      },
      "source": [
        "**Note that RandomizedSearchCV will never outperform GridSearchCV. Instead, it is valuable because it saves on computation time.**"
      ]
    },
    {
      "cell_type": "code",
      "metadata": {
        "id": "eKe8KaZptZ-h",
        "colab_type": "code",
        "colab": {}
      },
      "source": [
        "#import modules\n",
        "import sklearn\n",
        "from scipy.stats import randint\n",
        "from sklearn.model_selection import RandomizedSearchCV\n",
        "from sklearn.tree import DecisionTreeClassifier"
      ],
      "execution_count": 0,
      "outputs": []
    },
    {
      "cell_type": "code",
      "metadata": {
        "id": "7nzJXFOGwFvn",
        "colab_type": "code",
        "colab": {}
      },
      "source": [
        "# Setup the parameters and distributions to sample from: param_dist\n",
        "param_dist = {\"max depth\" :  [3, None],\n",
        "              \"max_features\" : randint(1, 9),\n",
        "              \"min_samples_leaf\" : randint(1, 9),\n",
        "              \"criterion\" : ['gini', 'enthropy']}"
      ],
      "execution_count": 0,
      "outputs": []
    },
    {
      "cell_type": "code",
      "metadata": {
        "id": "HC0NQanLxbBg",
        "colab_type": "code",
        "colab": {}
      },
      "source": [
        "#Instantiate a Decision Tree Classifier\n",
        "tree = DecisionTreeClassifier()"
      ],
      "execution_count": 0,
      "outputs": []
    },
    {
      "cell_type": "code",
      "metadata": {
        "id": "Iyu1NlMwxjfW",
        "colab_type": "code",
        "colab": {}
      },
      "source": [
        "#Instantiate the RandomizedSearchCV  object: tree_cv\n",
        "tree_cv = RandomizedSearchCV(tree, param_dist, cv=5)"
      ],
      "execution_count": 0,
      "outputs": []
    },
    {
      "cell_type": "code",
      "metadata": {
        "id": "m5cidDjRx58r",
        "colab_type": "code",
        "colab": {}
      },
      "source": [
        "#Fit it into the Data\n",
        "tree_cv.fit(X, y)"
      ],
      "execution_count": 0,
      "outputs": []
    },
    {
      "cell_type": "code",
      "metadata": {
        "id": "YMUx5iBhyCno",
        "colab_type": "code",
        "colab": {}
      },
      "source": [
        "# Print the tuned parameter and score\n",
        "print(\"Tuned Decision tree parameter : {}\".format(tree_cv.best_params_))\n",
        "print(\"Best Score is: {}\".format(tree_cv.best_score_))"
      ],
      "execution_count": 0,
      "outputs": []
    },
    {
      "cell_type": "markdown",
      "metadata": {
        "id": "WwANs6gY0pPE",
        "colab_type": "text"
      },
      "source": [
        "**Hold-out set in practice I: Classification**"
      ]
    },
    {
      "cell_type": "markdown",
      "metadata": {
        "id": "EDHCqR_oI5Ax",
        "colab_type": "text"
      },
      "source": [
        "We will now practice evaluating a model with tuned hyperparameters on a hold-out set. The feature array and target variable array from the diabetes dataset"
      ]
    },
    {
      "cell_type": "code",
      "metadata": {
        "id": "OhSFyXk9ChTp",
        "colab_type": "code",
        "colab": {}
      },
      "source": [
        "#import modules\n",
        "import numpy as np\n",
        "from sklearn.model_selection import train_test_split\n",
        "from sklearn.model_selection import GridSearchCV\n",
        "from sklearn.linear_model import LogisticRegression"
      ],
      "execution_count": 0,
      "outputs": []
    },
    {
      "cell_type": "code",
      "metadata": {
        "id": "rUQZmr76GJD_",
        "colab_type": "code",
        "colab": {}
      },
      "source": [
        "#Create the hyperparameter Grid\n",
        "c_space = np.logspace(-5, 8, 15)\n",
        "param_grid = {\"C\": c_space, 'penalty': ['l1', 'l2']}"
      ],
      "execution_count": 0,
      "outputs": []
    },
    {
      "cell_type": "code",
      "metadata": {
        "id": "Nox3TV8NHB9d",
        "colab_type": "code",
        "colab": {}
      },
      "source": [
        "# Instantiate the logistic regression classifier: logreg\n",
        "logreg = LogisticRegression()"
      ],
      "execution_count": 0,
      "outputs": []
    },
    {
      "cell_type": "code",
      "metadata": {
        "id": "UUrrKrDjHF4B",
        "colab_type": "code",
        "colab": {}
      },
      "source": [
        "# Create train and test sets\n",
        "X_train, X_test, y_train, y_test = train_test_split(X, y, test_size=0.4, random_state=42)"
      ],
      "execution_count": 0,
      "outputs": []
    },
    {
      "cell_type": "code",
      "metadata": {
        "id": "DRXbN0QZHjMf",
        "colab_type": "code",
        "colab": {}
      },
      "source": [
        "# Instantiate the GridSearchCV object: logreg_cv\n",
        "logreg_cv = GridSearchCV(logreg, param_grid, cv=5)"
      ],
      "execution_count": 0,
      "outputs": []
    },
    {
      "cell_type": "code",
      "metadata": {
        "id": "wzZ0dbCtIM7K",
        "colab_type": "code",
        "colab": {}
      },
      "source": [
        "# Fit it to the training data\n",
        "logreg_cv.fit(X_train, y_train)"
      ],
      "execution_count": 0,
      "outputs": []
    },
    {
      "cell_type": "code",
      "metadata": {
        "id": "DD9_H6FKIgvz",
        "colab_type": "code",
        "colab": {}
      },
      "source": [
        "# Print the optimal parameters and best score\n",
        "print(\"Tuned Logistic Regression Parameter: {}\".format(logreg_cv.best_params_))\n",
        "print(\"Tuned Logistic Regression Accuracy: {}\".format(logreg_cv.best_score_))"
      ],
      "execution_count": 0,
      "outputs": []
    },
    {
      "cell_type": "markdown",
      "metadata": {
        "id": "oTz0s0AsJDhh",
        "colab_type": "text"
      },
      "source": [
        "**Hold-out set in practice II: Regression**"
      ]
    },
    {
      "cell_type": "markdown",
      "metadata": {
        "id": "3ou3orJLJmDk",
        "colab_type": "text"
      },
      "source": [
        "Lasso used the L1 penalty to regularize, while ridge used the L2 penalty. There is another type of regularized regression known as the elastic net. In elastic net regularization, the penalty term is a linear combination of the L1 and L2 penalties:\n",
        "\n",
        "                                 ** a∗L1+b∗L2**\n",
        "\n",
        "\n",
        "In scikit-learn, this term is represented by the 'l1_ratio' parameter: An 'l1_ratio' of 1 corresponds to an L1 penalty, and anything lower is a combination of L1 and L2."
      ]
    },
    {
      "cell_type": "code",
      "metadata": {
        "id": "Ja_TeGzhJGOu",
        "colab_type": "code",
        "colab": {}
      },
      "source": [
        "# Import necessary modules\n",
        "from sklearn.linear_model import ElasticNet\n",
        "from sklearn.metrics import mean_squared_error\n",
        "from sklearn.model_selection import GridSearchCV\n",
        "from sklearn.model_selection import train_test_split\n",
        "\n",
        "# Create train and test sets\n",
        "X_train, X_test, y_train, y_test = train_test_split(X, y, test_size = 0.4, random_state=42)\n",
        "\n",
        "# Create the hyperparameter grid\n",
        "l1_space = np.linspace(0, 1, 30)\n",
        "param_grid = {'l1_ratio': l1_space}\n",
        "\n",
        "# Instantiate the ElasticNet regressor: elastic_net\n",
        "elastic_net = ElasticNet()\n",
        "\n",
        "# Setup the GridSearchCV object: gm_cv\n",
        "gm_cv = GridSearchCV(elastic_net, param_grid, cv=5)\n",
        "\n",
        "# Fit it to the training data\n",
        "gm_cv.fit(X_train, y_train)\n",
        "\n",
        "# Predict on the test set and compute metrics\n",
        "y_pred = gm_cv.predict(X_test)\n",
        "r2 = gm_cv.score(X_test, y_test)\n",
        "mse = mean_squared_error(y_test, y_pred)\n",
        "print(\"Tuned ElasticNet l1 ratio: {}\".format(gm_cv.best_params_))\n",
        "print(\"Tuned ElasticNet R squared: {}\".format(r2))\n",
        "print(\"Tuned ElasticNet MSE: {}\".format(mse))\n"
      ],
      "execution_count": 0,
      "outputs": []
    },
    {
      "cell_type": "markdown",
      "metadata": {
        "id": "UzsMdgFJqJqH",
        "colab_type": "text"
      },
      "source": [
        ""
      ]
    },
    {
      "cell_type": "code",
      "metadata": {
        "id": "oWIScKcyqMWo",
        "colab_type": "code",
        "colab": {}
      },
      "source": [
        "# Import pandas\n",
        "import pandas as pd\n",
        "\n",
        "\n",
        "# Read 'gapminder.csv' into a DataFrame: df\n",
        "df = pd.read_csv('gapminder.csv')\n",
        "\n",
        "# Create a boxplot of life expectancy per region\n",
        "df.boxplot('life', 'Region', rot=60)\n",
        "\n",
        "# Show the plot\n",
        "plt.show()\n"
      ],
      "execution_count": 0,
      "outputs": []
    },
    {
      "cell_type": "code",
      "metadata": {
        "id": "hhQ0DUD6sgpx",
        "colab_type": "code",
        "colab": {}
      },
      "source": [
        "# Create dummy variables: df_region\n",
        "df_region = pd.get_dummies(df)\n",
        "\n",
        "# Print the columns of df_region\n",
        "print(df_region.columns)\n",
        "\n",
        "# Create dummy variables with drop_first=True: df_region\n",
        "df_region = pd.get_dummies(df, drop_first=True)\n",
        "\n",
        "# Print the new columns of df_region\n",
        "print(df_region.columns)\n"
      ],
      "execution_count": 0,
      "outputs": []
    },
    {
      "cell_type": "markdown",
      "metadata": {
        "id": "M7BNnp-7soBs",
        "colab_type": "text"
      },
      "source": [
        "**Regression with categorical features**\n",
        "\n",
        "Having created the dummy variables from the 'Region' feature, you can build regression models as you did before. Here, you'll use ridge regression to perform 5-fold cross-validation."
      ]
    },
    {
      "cell_type": "code",
      "metadata": {
        "id": "YLvx8MsesvbL",
        "colab_type": "code",
        "colab": {}
      },
      "source": [
        "# Import necessary modules\n",
        "import sklearn\n",
        "from sklearn.linear_model import Ridge\n",
        "from sklearn.model_selection import cross_val_score\n",
        "\n",
        "\n",
        "# Instantiate a ridge regressor: ridge\n",
        "ridge = Ridge(alpha=0.5, normalize=True)\n",
        "\n",
        "# Perform 5-fold cross-validation: ridge_cv\n",
        "ridge_cv = cross_val_score(ridge, X, y, cv=5)\n",
        "\n",
        "# Print the cross-validated scores\n",
        "print(ridge_cv)\n"
      ],
      "execution_count": 0,
      "outputs": []
    },
    {
      "cell_type": "markdown",
      "metadata": {
        "id": "IKBknt9Ftv5J",
        "colab_type": "text"
      },
      "source": [
        "**Dropping missing data**\n",
        "\n",
        "The unprocessed dataset has been loaded into a DataFrame df. Explore it in the IPython Shell with the .head() method. You will see that there are certain data points labeled with a '?'. These denote missing values. As you saw in the video, different datasets encode missing values in different ways. Sometimes it may be a '9999', other times a 0 - real-world data can be very messy! If you're lucky, the missing values will already be encoded as NaN. We use NaN because it is an efficient and simplified way of internally representing missing data, and it lets us take advantage of pandas methods such as .dropna() and .fillna(), as well as scikit-learn's Imputation transformer Imputer()."
      ]
    },
    {
      "cell_type": "code",
      "metadata": {
        "id": "sRNsXUqexz29",
        "colab_type": "code",
        "colab": {}
      },
      "source": [
        "import sklearn\n",
        "import pandas as pd"
      ],
      "execution_count": 0,
      "outputs": []
    },
    {
      "cell_type": "code",
      "metadata": {
        "id": "SfzB6M9-0mkh",
        "colab_type": "code",
        "colab": {}
      },
      "source": [
        "# Convert '?' to NaN\n",
        "df[df == '?'] = np.nan\n",
        "\n",
        "# Print the number of NaNs\n",
        "print(df.isnull().sum())\n",
        "\n",
        "# Print shape of original DataFrame\n",
        "print(\"Shape of Original DataFrame: {}\".format(df.shape))\n",
        "\n",
        "# Drop missing values and print shape of new DataFrame\n",
        "df = df.dropna()\n",
        "\n",
        "# Print shape of new DataFrame\n",
        "print(\"Shape of DataFrame After Dropping All Rows with Missing Values: {}\".format(df.shape))\n"
      ],
      "execution_count": 0,
      "outputs": []
    },
    {
      "cell_type": "markdown",
      "metadata": {
        "id": "Wjhyd0Xw00jZ",
        "colab_type": "text"
      },
      "source": [
        "When many values in your dataset are missing, if you drop them, you may end up throwing away valuable information along with the missing data. It's better instead to develop an imputation strategy. This is where domain knowledge is useful, but in the absence of it, you can impute missing values with the mean or the median of the row or column that the missing value is in."
      ]
    },
    {
      "cell_type": "code",
      "metadata": {
        "id": "9RwRH5D601d3",
        "colab_type": "code",
        "colab": {}
      },
      "source": [
        ""
      ],
      "execution_count": 0,
      "outputs": []
    },
    {
      "cell_type": "markdown",
      "metadata": {
        "id": "AILMn8GD43Af",
        "colab_type": "text"
      },
      "source": [
        "I**mputing missing data in a ML Pipeline I**"
      ]
    },
    {
      "cell_type": "markdown",
      "metadata": {
        "id": "dR22zJHb54l6",
        "colab_type": "text"
      },
      "source": [
        "there are many steps to building a model, from creating training and test sets, to fitting a classifier or regressor, to tuning its parameters, to evaluating its performance on new data. Imputation can be seen as the first step of this machine learning process, the entirety of which can be viewed within the context of a pipeline. Scikit-learn provides a pipeline constructor that allows you to piece together these steps into one process and thereby simplify your workflow.\n",
        "\n",
        "\n",
        "You'll now practice setting up a pipeline with two steps: the imputation step, followed by the instantiation of a classifier. You've seen three classifiers in this course so far: k-NN, logistic regression, and the decision tree. You will now be introduced to a fourth one - the Support Vector Machine, or SVM. For now, do not worry about how it works under the hood. "
      ]
    },
    {
      "cell_type": "code",
      "metadata": {
        "id": "yODxNu5F6Ano",
        "colab_type": "code",
        "colab": {}
      },
      "source": [
        "# Import the Imputer module\n",
        "import sklearn\n",
        "from sklearn.preprocessing import Imputer\n",
        "from sklearn.svm import SVC #Support Vector classification\n",
        "\n",
        "# Setup the Imputation transformer: imp\n",
        "imp = Imputer(missing_values='NaN', strategy='most_frequent', axis=0)\n",
        "\n",
        "# Instantiate the SVC classifier: clf\n",
        "clf = SVC()\n",
        "\n",
        "# Setup the pipeline with the required steps: steps\n",
        "steps = [('imputation', imp),\n",
        "        ('SVM', clf)]"
      ],
      "execution_count": 0,
      "outputs": []
    },
    {
      "cell_type": "markdown",
      "metadata": {
        "id": "2yDXpAHY65OO",
        "colab_type": "text"
      },
      "source": [
        "Having set up the pipeline steps, you can now use it for classification."
      ]
    },
    {
      "cell_type": "code",
      "metadata": {
        "id": "mFDiNtth68QF",
        "colab_type": "code",
        "colab": {}
      },
      "source": [
        ""
      ],
      "execution_count": 0,
      "outputs": []
    },
    {
      "cell_type": "markdown",
      "metadata": {
        "id": "rzAPp-zT7CGp",
        "colab_type": "text"
      },
      "source": [
        "**Imputing missing data in a ML Pipeline II**"
      ]
    },
    {
      "cell_type": "markdown",
      "metadata": {
        "id": "3B9eG_B2pCPL",
        "colab_type": "text"
      },
      "source": [
        "Having setup the steps of the pipeline in the previous exercise, you will now use it on the voting dataset to classify a Congressman's party affiliation. What makes pipelines so incredibly useful is the simple interface that they provide. You can use the .fit() and .predict() methods on pipelines just as you did with your classifiers and regressors!"
      ]
    },
    {
      "cell_type": "code",
      "metadata": {
        "id": "HHxUUb6o7ET3",
        "colab_type": "code",
        "colab": {}
      },
      "source": [
        "# Import necessary modules\n",
        "from sklearn.preprocessing import Imputer\n",
        "from sklearn.pipeline import Pipeline\n",
        "from sklearn.svm import SVC\n",
        "\n",
        "# Setup the pipeline steps: steps\n",
        "steps = [('imputation', Imputer(missing_values='NaN', strategy='most_frequent', axis=0)),\n",
        "        ('SVM', SVC())]\n",
        "\n",
        "# Create the pipeline: pipeline\n",
        "pipeline = Pipeline(steps)\n",
        "\n",
        "# Create training and test sets\n",
        "X_train, X_test, y_train, y_test = train_test_split(X, y, test_size=0.3, random_state = 42)\n",
        "\n",
        "# Fit the pipeline to the train set\n",
        "pipeline_fit = pipeline.fit(X_train, y_train)\n",
        "\n",
        "# Predict the labels of the test set\n",
        "y_pred = pipeline.predict(X_test)\n",
        "\n",
        "# Compute metrics\n",
        "print(classification_report(y_test, y_pred))"
      ],
      "execution_count": 0,
      "outputs": []
    },
    {
      "cell_type": "markdown",
      "metadata": {
        "id": "B4H_EbBbpKAL",
        "colab_type": "text"
      },
      "source": [
        "**Centering and scaling your data**"
      ]
    },
    {
      "cell_type": "markdown",
      "metadata": {
        "id": "razVskL4uO3W",
        "colab_type": "text"
      },
      "source": [
        "Hugo demonstrated how significantly the performance of a model can improve if the features are scaled. Note that this is not always the case: In the Congressional voting records dataset, for example, all of the features are binary. In such a situation, scaling will have minimal impact.\n",
        "\n",
        "\n",
        "You will now explore scaling for yourself on a new dataset - White Wine Quality! Hugo used the Red Wine Quality dataset in the video. We have used the 'quality' feature of the wine to create a binary target variable: If 'quality' is less than 5, the target variable is 1, and otherwise, it is 0.\n",
        "\n",
        "\n",
        "The DataFrame has been pre-loaded as df, along with the feature and target variable arrays X and y. Explore it in the IPython Shell. Notice how some features seem to have different units of measurement. 'density', for instance, takes values between 0.98 and 1.04, while 'total sulfur dioxide' ranges from 9 to 440. As a result, it may be worth scaling the features here. Your job in this exercise is to scale the features and compute the mean and standard deviation of the unscaled features compared to the scaled features."
      ]
    },
    {
      "cell_type": "code",
      "metadata": {
        "id": "e2ubamXjtsNu",
        "colab_type": "code",
        "colab": {}
      },
      "source": [
        "# Import scale\n",
        "import sklearn\n",
        "from sklearn.preprocessing import scale\n",
        "import numpy as np\n",
        "\n",
        "# Scale the features: X_scaled\n",
        "X_scaled = scale(X)\n",
        "\n",
        "# Print the mean and standard deviation of the unscaled features\n",
        "print(\"Mean of Unscaled Features: {}\".format(np.mean(X))) \n",
        "print(\"Standard Deviation of Unscaled Features: {}\".format(np.std(X)))\n",
        "\n",
        "# Print the mean and standard deviation of the scaled features\n",
        "print(\"Mean of Scaled Features: {}\".format(np.mean(X_scaled))) \n",
        "print(\"Standard Deviation of Scaled Features: {}\".format(np.std(X_scaled)))"
      ],
      "execution_count": 0,
      "outputs": []
    },
    {
      "cell_type": "markdown",
      "metadata": {
        "id": "5QQSwgoW0xk-",
        "colab_type": "text"
      },
      "source": [
        "**Centering and scaling in a pipeline**"
      ]
    },
    {
      "cell_type": "code",
      "metadata": {
        "id": "FznIzhCn05Dq",
        "colab_type": "code",
        "colab": {}
      },
      "source": [
        "#Import Modules and scales\n",
        "import sklearn\n",
        "from sklearn.preprocessing import StandardScaler\n",
        "from sklearn.pipeline import Pipeline\n",
        "from sklearn.neighbors import KNeighborsClassifier\n",
        "from sklearn.model_selection import train_test_split\n",
        "\n",
        "#Setup the Pipeline steps: steps\n",
        "steps = [('scaler', StandardScaler()),\n",
        "        ('knn', KNeighborsClassifier())]"
      ],
      "execution_count": 0,
      "outputs": []
    },
    {
      "cell_type": "code",
      "metadata": {
        "id": "PuIqWd4S5Yff",
        "colab_type": "code",
        "colab": {}
      },
      "source": [
        "#Create the Pipeline\n",
        "pipeline = Pipeline(steps)"
      ],
      "execution_count": 0,
      "outputs": []
    },
    {
      "cell_type": "code",
      "metadata": {
        "id": "YkrCM5eI6Vhy",
        "colab_type": "code",
        "colab": {}
      },
      "source": [
        "#Create the train and test set\n",
        "X_train, X_test, y_train, y_test = train_test_split(X, y, test_size=0.3, reandom_state=42)"
      ],
      "execution_count": 0,
      "outputs": []
    },
    {
      "cell_type": "code",
      "metadata": {
        "id": "Jq0iqn5x619C",
        "colab_type": "code",
        "colab": {}
      },
      "source": [
        "#Fit the pipeline to the training set\n",
        "knn_scaled = pipeline.fit(X_train, y_train)"
      ],
      "execution_count": 0,
      "outputs": []
    },
    {
      "cell_type": "code",
      "metadata": {
        "id": "isf2E5U57A0W",
        "colab_type": "code",
        "colab": {}
      },
      "source": [
        "#Instantiate and fit the K-nnClassifier to the unscaled data\n",
        "knn_unscaled = KNeighborsClassifier().fit(X_train, y_train)"
      ],
      "execution_count": 0,
      "outputs": []
    },
    {
      "cell_type": "code",
      "metadata": {
        "id": "g1Z_As7n7WVb",
        "colab_type": "code",
        "colab": {}
      },
      "source": [
        "#Compute and print Metrics\n",
        "print('Accuracy with scaling: {}'.format(knn_scaled.score(X_test, y_test)))\n",
        "print('Accuracy without scaling: {}'.format(knn_unscaled.score(X_test, y_test)))"
      ],
      "execution_count": 0,
      "outputs": []
    },
    {
      "cell_type": "markdown",
      "metadata": {
        "id": "rV_Zh733FufB",
        "colab_type": "text"
      },
      "source": [
        "**Bringing it all together I: Pipeline for classification **\n",
        "\n",
        "It is time now to piece together everything you have learned so far into a pipeline for classification! Your job in this exercise is to build a pipeline that includes scaling and hyperparameter tuning to classify wine quality.\n",
        "\n",
        "You'll return to using the SVM classifier you were briefly introduced to earlier in this chapter. The hyperparameters you will tune are C and gamma. C controls the regularization strength. It is analogous to the C you tuned for logistic regression in Chapter 3, while gamma controls the kernel coefficient: Do not worry about this now as it is beyond the scope of this course.\n"
      ]
    },
    {
      "cell_type": "code",
      "metadata": {
        "id": "yGFyYZgAF0R8",
        "colab_type": "code",
        "colab": {}
      },
      "source": [
        "#Import Modules\n",
        "import sklearn\n",
        "from sklearn.pipeline import Pipeline\n",
        "from sklearn.svm import SVC\n",
        "from sklearn.model_selection import train_test_split\n",
        "from sklearn.model_selection import GridSearchCV\n",
        "#from sklearn.grid_search import GridSearchCV \n",
        "from sklearn import metrics\n",
        "from sklearn.metrics import classification_report\n",
        "#from sklearn.model_selection import classification_report\n",
        "from sklearn.preprocessing import StandardScaler\n",
        "\n",
        "\n",
        "# Setup the pipeline\n",
        "steps = [('scaler', StandardScaler()),\n",
        "         ('SVM', SVC())]\n",
        "\n",
        "pipeline = Pipeline(steps)\n",
        "\n",
        "# Specify the hyperparameter space\n",
        "parameters = {'SVM__C':[1, 10, 100],\n",
        "              'SVM__gamma':[0.1, 0.01]}\n",
        "\n",
        "# Create train and test sets\n",
        "X_train, X_test, y_train, y_test = train_test_split(X, y, test_size=0.2, random_state=21)\n",
        "\n",
        "# Instantiate the GridSearchCV object: cv\n",
        "cv = GridSearchCV(pipeline, param_grid=parameters, cv=3)\n",
        "\n",
        "# Fit to the training set\n",
        "cv.fit(X_train, y_train)\n",
        "\n",
        "# Predict the labels of the test set: y_pred\n",
        "y_pred = cv.predict(X_test)\n",
        "\n",
        "# Compute and print metrics\n",
        "print(\"Accuracy: {}\".format(cv.score(X_test, y_test)))\n",
        "print(classification_report(y_test, y_pred))\n",
        "print(\"Tuned Model Parameters: {}\".format(cv.best_params_))"
      ],
      "execution_count": 0,
      "outputs": []
    },
    {
      "cell_type": "markdown",
      "metadata": {
        "id": "6oElS3dpOA6l",
        "colab_type": "text"
      },
      "source": [
        "**Bringing it all together II: Pipeline for regression**"
      ]
    },
    {
      "cell_type": "markdown",
      "metadata": {
        "id": "Q_igDq1MQaUm",
        "colab_type": "text"
      },
      "source": [
        "For this final exercise, you will return to the Gapminder dataset. Guess what? Even this dataset has missing values that we dealt with for you in earlier chapters! Now, you have all the tools to take care of them yourself!\n",
        "\n",
        "Your job is to build a pipeline that imputes the missing data, scales the features, and fits an ElasticNet to the Gapminder data. You will then tune the l1_ratio of your ElasticNet using GridSearchCV."
      ]
    },
    {
      "cell_type": "code",
      "metadata": {
        "id": "Ro1etvzLOC3E",
        "colab_type": "code",
        "colab": {}
      },
      "source": [
        "# Setup the pipeline steps: steps\n",
        "steps = [('imputation', Imputer(missing_values='NaN', \n",
        "            strategy='mean', axis=0)),\n",
        "         ('scaler', StandardScaler()),\n",
        "         ('elasticnet', ElasticNet())]\n",
        "\n",
        "# Create the pipeline: pipeline \n",
        "pipeline = Pipeline(steps)\n",
        "\n",
        "# Specify the hyperparameter space\n",
        "parameters = {'elasticnet__l1_ratio': np.linspace(0,1,30)}\n",
        "\n",
        "# Create train and test sets\n",
        "X_train, X_test, y_train, y_test = train_test_split(X, y, test_size=0.4, random_state=42)\n",
        "\n",
        "# Create the GridSearchCV object: gm_cv\n",
        "gm_cv = GridSearchCV(pipeline, param_grid=parameters, cv=3)\n",
        "\n",
        "# Fit to the training set\n",
        "gm_cv.fit(X_train, y_train)\n",
        "\n",
        "# Compute and print the metrics\n",
        "r2 = gm_cv.score(X_test, y_test)\n",
        "print(\"Tuned ElasticNet Alpha: {}\".format(gm_cv.best_params_))\n",
        "print(\"Tuned ElasticNet R squared: {}\".format(r2))"
      ],
      "execution_count": 0,
      "outputs": []
    },
    {
      "cell_type": "markdown",
      "metadata": {
        "id": "Q6uv2j9YQciU",
        "colab_type": "text"
      },
      "source": [
        ""
      ]
    }
  ]
}